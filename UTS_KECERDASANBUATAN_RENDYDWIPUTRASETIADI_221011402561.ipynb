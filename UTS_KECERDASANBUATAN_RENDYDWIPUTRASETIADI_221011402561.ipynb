{
 "cells": [
  {
   "cell_type": "code",
   "execution_count": 4,
   "metadata": {},
   "outputs": [],
   "source": [
    "# Data\n",
    "\n",
    "company_detail_list = [\n",
    "      {\n",
    "          'name': 'Company 1',\n",
    "          'domain': 'Retail',\n",
    "          'country': 'United States'\n",
    "      },\n",
    "      {\n",
    "          'name': 'Company 2',\n",
    "          'domain': 'Technology',\n",
    "          'country': 'United Kingdom'\n",
    "      },\n",
    "      {\n",
    "          'name': 'Company 3',\n",
    "          'domain': 'Healthcare',\n",
    "          'country': 'United States'\n",
    "      }\n",
    "  ]\n",
    "\n",
    "employee_detail_list = [\n",
    "     {\n",
    "          'name': 'EMP-0001',\n",
    "          'first_name': 'John',\n",
    "          'last_name': 'Doe',\n",
    "          'full_name': 'John Doe',\n",
    "          'company': 'Company 1',\n",
    "          'nationality': 'Australia'\n",
    "      },\n",
    "      {\n",
    "          'name': 'EMP-0002',\n",
    "          'first_name': 'Tom',\n",
    "          'last_name': 'Smith',\n",
    "          'full_name': 'Tom Smith',\n",
    "          'company': 'Company 2',\n",
    "          'nationality': 'United States'\n",
    "      },\n",
    "      {\n",
    "          'name': 'EMP-0003',\n",
    "          'first_name': 'Andrew',\n",
    "          'last_name': 'Sebastian',\n",
    "          'full_name': 'Andrew Sebastian',\n",
    "          'company': 'Company 3',\n",
    "          'nationality': 'United States'\n",
    "      },\n",
    "      {\n",
    "          'name': 'EMP-0005',\n",
    "          'first_name': 'Ying Han',\n",
    "          'last_name': 'Tan',\n",
    "          'full_name': 'Ying Han Tan',\n",
    "          'company': 'Company 1',\n",
    "          'nationality': 'Australia'\n",
    "      },\n",
    "      {\n",
    "          'name': 'EMP-0015',\n",
    "          'first_name': 'Kenneth',\n",
    "          'last_name': 'Ng',\n",
    "          'full_name': 'Kenneth Ng',\n",
    "          'company': 'Company 3',\n",
    "          'nationality': 'United States'\n",
    "      },\n",
    "      {\n",
    "          'name': 'EMP-0018',\n",
    "          'first_name': 'Rubby',\n",
    "          'last_name': 'Lee',\n",
    "          'full_name': 'Rubby Lee',\n",
    "          'company': 'Company 2',\n",
    "          'nationality': 'Hong Kong'\n",
    "      },\n",
    "     {\n",
    "          'name': 'EMP-0017',\n",
    "          'first_name': 'Robert',\n",
    "          'last_name': 'White',\n",
    "          'full_name': 'Robert White',\n",
    "          'company': 'Company 1',\n",
    "          'nationality': 'United Kingdom'\n",
    "      }\n",
    "  ]"
   ]
  },
  {
   "cell_type": "code",
   "execution_count": 5,
   "metadata": {},
   "outputs": [
    {
     "name": "stdout",
     "output_type": "stream",
     "text": [
      "[{'name': 'Company 3'}, {'name': 'Company 2'}, {'name': 'Company 1'}]\n"
     ]
    }
   ],
   "source": [
    "#Soal 1\n",
    "sorted_companies = sorted([{'name': company['name']} for company in company_detail_list], key=lambda x: x['name'], reverse=True)\n",
    "print(sorted_companies)\n"
   ]
  },
  {
   "cell_type": "code",
   "execution_count": 6,
   "metadata": {},
   "outputs": [
    {
     "name": "stdout",
     "output_type": "stream",
     "text": [
      "Company 1: Retail (United States)\n",
      "Company 2: Technology (United Kingdom)\n",
      "Company 3: Healthcare (United States)\n"
     ]
    }
   ],
   "source": [
    "#Soal 2\n",
    "for company in company_detail_list:\n",
    "    print(f\"{company['name']}: {company['domain']} ({company['country']})\")"
   ]
  },
  {
   "cell_type": "code",
   "execution_count": 7,
   "metadata": {},
   "outputs": [
    {
     "name": "stdout",
     "output_type": "stream",
     "text": [
      "{\n",
      "    \"Retail\": [\n",
      "        \"John Doe\",\n",
      "        \"Ying Han Tan\",\n",
      "        \"Robert White\",\n",
      "    ],\n",
      "    \"Technology\": [\n",
      "        \"Tom Smith\",\n",
      "        \"Rubby Lee\",\n",
      "    ],\n",
      "    \"Healthcare\": [\n",
      "        \"Andrew Sebastian\",\n",
      "        \"Kenneth Ng\",\n",
      "    ]\n",
      "}\n"
     ]
    }
   ],
   "source": [
    "#Soal 3\n",
    "company_domain_map = {company['name']: company['domain'] for company in company_detail_list}\n",
    "\n",
    "karyawan_berdasarkan_domain = {}\n",
    "for employee in employee_detail_list:\n",
    "    domain = company_domain_map[employee['company']]\n",
    "    karyawan_berdasarkan_domain.setdefault(domain, []).append(employee['full_name'])\n",
    "\n",
    "print(\"{\")\n",
    "print(f'    \"Retail\": [')\n",
    "for name in karyawan_berdasarkan_domain.get(\"Retail\", []):\n",
    "    print(f'        \"{name}\",')\n",
    "print(f'    ],')\n",
    "print(f'    \"Technology\": [')\n",
    "for name in karyawan_berdasarkan_domain.get(\"Technology\", []):\n",
    "    print(f'        \"{name}\",')\n",
    "print(f'    ],')\n",
    "print(f'    \"Healthcare\": [')\n",
    "for name in karyawan_berdasarkan_domain.get(\"Healthcare\", []):\n",
    "    print(f'        \"{name}\",')\n",
    "print(f'    ]')\n",
    "print(\"}\")"
   ]
  },
  {
   "cell_type": "code",
   "execution_count": 12,
   "metadata": {},
   "outputs": [
    {
     "name": "stdout",
     "output_type": "stream",
     "text": [
      "{\n",
      "    \"full_name\": \"John Doe\",\n",
      "    \"company\": \"Company 1\",\n",
      "    \"country\": \"United States\"\n",
      "}\n",
      "{\n",
      "    \"full_name\": \"Tom Smith\",\n",
      "    \"company\": \"Company 2\",\n",
      "    \"country\": \"United Kingdom\"\n",
      "}\n",
      "{\n",
      "    \"full_name\": \"Andrew Sebastian\",\n",
      "    \"company\": \"Company 3\",\n",
      "    \"country\": \"United States\"\n",
      "}\n",
      "{\n",
      "    \"full_name\": \"Ying Han Tan\",\n",
      "    \"company\": \"Company 1\",\n",
      "    \"country\": \"United States\"\n",
      "}\n",
      "{\n",
      "    \"full_name\": \"Kenneth Ng\",\n",
      "    \"company\": \"Company 3\",\n",
      "    \"country\": \"United States\"\n",
      "}\n",
      "{\n",
      "    \"full_name\": \"Rubby Lee\",\n",
      "    \"company\": \"Company 2\",\n",
      "    \"country\": \"United Kingdom\"\n",
      "}\n",
      "{\n",
      "    \"full_name\": \"Robert White\",\n",
      "    \"company\": \"Company 1\",\n",
      "    \"country\": \"United States\"\n",
      "}\n"
     ]
    }
   ],
   "source": [
    "#Soal 4\n",
    "def get_employees_with_company_country():\n",
    "    company_country_map = {company['name']: company['country'] for company in company_detail_list}\n",
    "    result = []\n",
    "\n",
    "    for employee in employee_detail_list:\n",
    "        result.append({\n",
    "            \"full_name\": employee['full_name'],\n",
    "            \"company\": employee['company'],\n",
    "            \"country\": company_country_map[employee['company']]\n",
    "        })\n",
    "    \n",
    "    return result\n",
    "\n",
    "employees_with_country = get_employees_with_company_country()\n",
    "\n",
    "for employee in employees_with_country:\n",
    "    print(f\"{{\")\n",
    "    print(f\"    \\\"full_name\\\": \\\"{employee['full_name']}\\\",\")\n",
    "    print(f\"    \\\"company\\\": \\\"{employee['company']}\\\",\")\n",
    "    print(f\"    \\\"country\\\": \\\"{employee['country']}\\\"\")\n",
    "    print(f\"}}\")"
   ]
  },
  {
   "cell_type": "code",
   "execution_count": 13,
   "metadata": {},
   "outputs": [
    {
     "name": "stdout",
     "output_type": "stream",
     "text": [
      "[\n",
      "    {\n",
      "        \"company\": \"Company 1\",\n",
      "        \"employee_nationality\": {\n",
      "            \"Australia\": 2,\n",
      "            \"United Kingdom\": 1\n",
      "        }\n",
      "    },\n",
      "    {\n",
      "        \"company\": \"Company 2\",\n",
      "        \"employee_nationality\": {\n",
      "            \"United States\": 1,\n",
      "            \"Hong Kong\": 1\n",
      "        }\n",
      "    },\n",
      "    {\n",
      "        \"company\": \"Company 3\",\n",
      "        \"employee_nationality\": {\n",
      "            \"United States\": 2\n",
      "        }\n",
      "    }\n",
      "]\n"
     ]
    }
   ],
   "source": [
    "#Soal 5\n",
    "\n",
    "def get_companies_with_employee_nationality():\n",
    "    result = []\n",
    "\n",
    "    for company in company_detail_list:\n",
    "        nationality_count = {}\n",
    "\n",
    "        for employee in employee_detail_list:\n",
    "            if employee['company'] == company['name']:\n",
    "                nationality = employee['nationality']\n",
    "                if nationality in nationality_count:\n",
    "                    nationality_count[nationality] += 1\n",
    "                else:\n",
    "                    nationality_count[nationality] = 1\n",
    "        \n",
    "        result.append({\n",
    "            \"company\": company['name'],\n",
    "            \"employee_nationality\": nationality_count\n",
    "        })\n",
    "\n",
    "    return result\n",
    "\n",
    "companies_with_nationality = get_companies_with_employee_nationality()\n",
    "\n",
    "import json  \n",
    "print(json.dumps(companies_with_nationality, indent=4))"
   ]
  }
 ],
 "metadata": {
  "kernelspec": {
   "display_name": "Python 3",
   "language": "python",
   "name": "python3"
  },
  "language_info": {
   "codemirror_mode": {
    "name": "ipython",
    "version": 3
   },
   "file_extension": ".py",
   "mimetype": "text/x-python",
   "name": "python",
   "nbconvert_exporter": "python",
   "pygments_lexer": "ipython3",
   "version": "3.9.6"
  }
 },
 "nbformat": 4,
 "nbformat_minor": 2
}
